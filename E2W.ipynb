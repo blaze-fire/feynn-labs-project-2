{
 "cells": [
  {
   "cell_type": "code",
   "execution_count": 1,
   "id": "b34001c9-2dc2-4bbb-83a4-f14def83c810",
   "metadata": {},
   "outputs": [
    {
     "name": "stderr",
     "output_type": "stream",
     "text": [
      "/home/krish/.local/lib/python3.10/site-packages/tqdm/auto.py:22: TqdmWarning: IProgress not found. Please update jupyter and ipywidgets. See https://ipywidgets.readthedocs.io/en/stable/user_install.html\n",
      "  from .autonotebook import tqdm as notebook_tqdm\n",
      "[nltk_data] Downloading package stopwords to /home/krish/nltk_data...\n",
      "[nltk_data]   Package stopwords is already up-to-date!\n",
      "[nltk_data] Downloading package punkt to /home/krish/nltk_data...\n",
      "[nltk_data]   Package punkt is already up-to-date!\n",
      "[nltk_data] Downloading package wordnet to /home/krish/nltk_data...\n",
      "[nltk_data]   Package wordnet is already up-to-date!\n"
     ]
    }
   ],
   "source": [
    "import pandas as pd\n",
    "import os\n",
    "import glob\n",
    "from tqdm import tqdm\n",
    "import math\n",
    "from rake_nltk import Rake\n",
    "from transformers import pipeline\n",
    "import warnings\n",
    "\n",
    "import numpy as np\n",
    "import re\n",
    "from nltk.corpus import stopwords\n",
    "from nltk.stem import WordNetLemmatizer\n",
    "import nltk\n",
    "import time\n",
    "\n",
    "import matplotlib.pyplot as plt\n",
    "import seaborn as sns\n",
    "from sklearn.decomposition import PCA\n",
    "from sklearn.preprocessing import StandardScaler\n",
    "import plotly.express as px\n",
    "from sklearn.cluster import KMeans\n",
    "\n",
    "nltk.download('stopwords')\n",
    "nltk.download('punkt')\n",
    "nltk.download('wordnet')\n",
    "lemmatizer = WordNetLemmatizer()"
   ]
  },
  {
   "cell_type": "code",
   "execution_count": 12,
   "id": "59225f11-4b5f-473d-982f-1df1deb72013",
   "metadata": {},
   "outputs": [],
   "source": [
    "df = pd.read_csv(\"reviews/e2w.csv\", names=[\"reviews\", \"attributes\", \"ratings\"])"
   ]
  },
  {
   "cell_type": "code",
   "execution_count": 14,
   "id": "4bfa9b91-29f2-4c5f-9a02-c39eca6eadb1",
   "metadata": {},
   "outputs": [
    {
     "data": {
      "text/html": [
       "<div>\n",
       "<style scoped>\n",
       "    .dataframe tbody tr th:only-of-type {\n",
       "        vertical-align: middle;\n",
       "    }\n",
       "\n",
       "    .dataframe tbody tr th {\n",
       "        vertical-align: top;\n",
       "    }\n",
       "\n",
       "    .dataframe thead th {\n",
       "        text-align: right;\n",
       "    }\n",
       "</style>\n",
       "<table border=\"1\" class=\"dataframe\">\n",
       "  <thead>\n",
       "    <tr style=\"text-align: right;\">\n",
       "      <th></th>\n",
       "      <th>reviews</th>\n",
       "      <th>attributes</th>\n",
       "      <th>ratings</th>\n",
       "    </tr>\n",
       "  </thead>\n",
       "  <tbody>\n",
       "    <tr>\n",
       "      <th>0</th>\n",
       "      <td>Wanna buy this bike so i gave basic informatio...</td>\n",
       "      <td>['Everything', 'Never owned', '']</td>\n",
       "      <td>1</td>\n",
       "    </tr>\n",
       "    <tr>\n",
       "      <th>1</th>\n",
       "      <td>This is simply amazing and exceptionally well ...</td>\n",
       "      <td>['Everything', '&gt; 1 yr', '&lt; 5000 kms', '']</td>\n",
       "      <td>5</td>\n",
       "    </tr>\n",
       "    <tr>\n",
       "      <th>2</th>\n",
       "      <td>Battery life is good, I like this bike very mu...</td>\n",
       "      <td>['Everything', '&lt; 3 months', '&lt; 5000 kms', '']</td>\n",
       "      <td>5</td>\n",
       "    </tr>\n",
       "    <tr>\n",
       "      <th>3</th>\n",
       "      <td>I seen this bike on road. Very nice bike and g...</td>\n",
       "      <td>['Everything', 'Never owned', '']</td>\n",
       "      <td>5</td>\n",
       "    </tr>\n",
       "    <tr>\n",
       "      <th>4</th>\n",
       "      <td>I have a rv400 I have the bike for almost more...</td>\n",
       "      <td>['Daily Commute', '&gt; 1 yr', '5000-10000 kms', '']</td>\n",
       "      <td>1</td>\n",
       "    </tr>\n",
       "  </tbody>\n",
       "</table>\n",
       "</div>"
      ],
      "text/plain": [
       "                                             reviews  \\\n",
       "0  Wanna buy this bike so i gave basic informatio...   \n",
       "1  This is simply amazing and exceptionally well ...   \n",
       "2  Battery life is good, I like this bike very mu...   \n",
       "3  I seen this bike on road. Very nice bike and g...   \n",
       "4  I have a rv400 I have the bike for almost more...   \n",
       "\n",
       "                                          attributes  ratings  \n",
       "0                  ['Everything', 'Never owned', '']        1  \n",
       "1         ['Everything', '> 1 yr', '< 5000 kms', '']        5  \n",
       "2     ['Everything', '< 3 months', '< 5000 kms', '']        5  \n",
       "3                  ['Everything', 'Never owned', '']        5  \n",
       "4  ['Daily Commute', '> 1 yr', '5000-10000 kms', '']        1  "
      ]
     },
     "execution_count": 14,
     "metadata": {},
     "output_type": "execute_result"
    }
   ],
   "source": [
    "df.head()"
   ]
  },
  {
   "cell_type": "code",
   "execution_count": 15,
   "id": "50beb4cc-f572-43c4-b56f-d499c46b5352",
   "metadata": {},
   "outputs": [
    {
     "name": "stdout",
     "output_type": "stream",
     "text": [
      "<class 'pandas.core.frame.DataFrame'>\n",
      "RangeIndex: 800 entries, 0 to 799\n",
      "Data columns (total 3 columns):\n",
      " #   Column      Non-Null Count  Dtype \n",
      "---  ------      --------------  ----- \n",
      " 0   reviews     800 non-null    object\n",
      " 1   attributes  800 non-null    object\n",
      " 2   ratings     800 non-null    int64 \n",
      "dtypes: int64(1), object(2)\n",
      "memory usage: 18.9+ KB\n"
     ]
    }
   ],
   "source": [
    "df.info()"
   ]
  },
  {
   "cell_type": "code",
   "execution_count": 16,
   "id": "6380d5ff-9dcd-49ff-8bf9-669f0953f90e",
   "metadata": {},
   "outputs": [],
   "source": [
    "df.dropna(inplace=True)\n",
    "df.drop_duplicates(inplace=True)\n",
    "df.reset_index(drop=True, inplace=True)"
   ]
  },
  {
   "cell_type": "code",
   "execution_count": 17,
   "id": "6a57096d-09c6-4b9c-8bf5-8e6a95bbba1f",
   "metadata": {},
   "outputs": [
    {
     "name": "stdout",
     "output_type": "stream",
     "text": [
      "<class 'pandas.core.frame.DataFrame'>\n",
      "RangeIndex: 799 entries, 0 to 798\n",
      "Data columns (total 3 columns):\n",
      " #   Column      Non-Null Count  Dtype \n",
      "---  ------      --------------  ----- \n",
      " 0   reviews     799 non-null    object\n",
      " 1   attributes  799 non-null    object\n",
      " 2   ratings     799 non-null    int64 \n",
      "dtypes: int64(1), object(2)\n",
      "memory usage: 18.9+ KB\n"
     ]
    }
   ],
   "source": [
    "df.info()"
   ]
  },
  {
   "cell_type": "code",
   "execution_count": 18,
   "id": "43cbab2b-dbfd-4ac6-8d4e-f297061150f7",
   "metadata": {},
   "outputs": [],
   "source": [
    "df[\"usage\"] = np.zeros(len(df))\n",
    "df[\"duration\"] = np.zeros(len(df))\n",
    "df[\"km_driven\"] = np.zeros(len(df))"
   ]
  },
  {
   "cell_type": "code",
   "execution_count": 19,
   "id": "c208ded8-2f70-4674-b134-e21db3c0434e",
   "metadata": {},
   "outputs": [],
   "source": [
    "for i in range(len(df)):\n",
    "    df.loc[i, \"usage\"] = df[\"attributes\"][i].replace(\"'\", '').replace(\"[\", '').replace(\"]\", '').split(',')[0]\n",
    "    df.loc[i, \"duration\"] = df[\"attributes\"][i].replace(\"'\", '').replace(\"[\", '').replace(\"]\", '').split(',')[1]    \n",
    "    df.loc[i, \"km_driven\"] = df[\"attributes\"][i].replace(\"'\", '').replace(\"[\", '').replace(\"]\", '').split(',')[2]    \n",
    "df.drop([\"attributes\"], axis=1, inplace=True)"
   ]
  },
  {
   "cell_type": "code",
   "execution_count": 20,
   "id": "1ad1f1f5-f212-429d-8791-c405e29e9f8f",
   "metadata": {},
   "outputs": [
    {
     "data": {
      "text/html": [
       "<div>\n",
       "<style scoped>\n",
       "    .dataframe tbody tr th:only-of-type {\n",
       "        vertical-align: middle;\n",
       "    }\n",
       "\n",
       "    .dataframe tbody tr th {\n",
       "        vertical-align: top;\n",
       "    }\n",
       "\n",
       "    .dataframe thead th {\n",
       "        text-align: right;\n",
       "    }\n",
       "</style>\n",
       "<table border=\"1\" class=\"dataframe\">\n",
       "  <thead>\n",
       "    <tr style=\"text-align: right;\">\n",
       "      <th></th>\n",
       "      <th>reviews</th>\n",
       "      <th>ratings</th>\n",
       "      <th>usage</th>\n",
       "      <th>duration</th>\n",
       "      <th>km_driven</th>\n",
       "    </tr>\n",
       "  </thead>\n",
       "  <tbody>\n",
       "    <tr>\n",
       "      <th>0</th>\n",
       "      <td>Wanna buy this bike so i gave basic informatio...</td>\n",
       "      <td>1</td>\n",
       "      <td>Everything</td>\n",
       "      <td>Never owned</td>\n",
       "      <td></td>\n",
       "    </tr>\n",
       "    <tr>\n",
       "      <th>1</th>\n",
       "      <td>This is simply amazing and exceptionally well ...</td>\n",
       "      <td>5</td>\n",
       "      <td>Everything</td>\n",
       "      <td>&gt; 1 yr</td>\n",
       "      <td>&lt; 5000 kms</td>\n",
       "    </tr>\n",
       "    <tr>\n",
       "      <th>2</th>\n",
       "      <td>Battery life is good, I like this bike very mu...</td>\n",
       "      <td>5</td>\n",
       "      <td>Everything</td>\n",
       "      <td>&lt; 3 months</td>\n",
       "      <td>&lt; 5000 kms</td>\n",
       "    </tr>\n",
       "    <tr>\n",
       "      <th>3</th>\n",
       "      <td>I seen this bike on road. Very nice bike and g...</td>\n",
       "      <td>5</td>\n",
       "      <td>Everything</td>\n",
       "      <td>Never owned</td>\n",
       "      <td></td>\n",
       "    </tr>\n",
       "    <tr>\n",
       "      <th>4</th>\n",
       "      <td>I have a rv400 I have the bike for almost more...</td>\n",
       "      <td>1</td>\n",
       "      <td>Daily Commute</td>\n",
       "      <td>&gt; 1 yr</td>\n",
       "      <td>5000-10000 kms</td>\n",
       "    </tr>\n",
       "    <tr>\n",
       "      <th>5</th>\n",
       "      <td>Buying experience of Revolt 400 bike. It is us...</td>\n",
       "      <td>3</td>\n",
       "      <td>Leisure Rides</td>\n",
       "      <td>&gt; 1 yr</td>\n",
       "      <td>&gt; 15000 kms</td>\n",
       "    </tr>\n",
       "    <tr>\n",
       "      <th>6</th>\n",
       "      <td>We'll, this bike will meet the interests of ma...</td>\n",
       "      <td>5</td>\n",
       "      <td>Leisure Rides</td>\n",
       "      <td>Never owned</td>\n",
       "      <td></td>\n",
       "    </tr>\n",
       "    <tr>\n",
       "      <th>7</th>\n",
       "      <td>Buying experience is awesome, riding performan...</td>\n",
       "      <td>5</td>\n",
       "      <td>Daily Commute</td>\n",
       "      <td>6 months-1 yr</td>\n",
       "      <td>&lt; 5000 kms</td>\n",
       "    </tr>\n",
       "    <tr>\n",
       "      <th>8</th>\n",
       "      <td>Value for money. Really a thumbs up for the bi...</td>\n",
       "      <td>5</td>\n",
       "      <td>Everything</td>\n",
       "      <td>Never owned</td>\n",
       "      <td></td>\n",
       "    </tr>\n",
       "    <tr>\n",
       "      <th>9</th>\n",
       "      <td>Please give protection to the battery, because...</td>\n",
       "      <td>4</td>\n",
       "      <td>Daily Commute</td>\n",
       "      <td>Never owned</td>\n",
       "      <td></td>\n",
       "    </tr>\n",
       "  </tbody>\n",
       "</table>\n",
       "</div>"
      ],
      "text/plain": [
       "                                             reviews  ratings          usage  \\\n",
       "0  Wanna buy this bike so i gave basic informatio...        1     Everything   \n",
       "1  This is simply amazing and exceptionally well ...        5     Everything   \n",
       "2  Battery life is good, I like this bike very mu...        5     Everything   \n",
       "3  I seen this bike on road. Very nice bike and g...        5     Everything   \n",
       "4  I have a rv400 I have the bike for almost more...        1  Daily Commute   \n",
       "5  Buying experience of Revolt 400 bike. It is us...        3  Leisure Rides   \n",
       "6  We'll, this bike will meet the interests of ma...        5  Leisure Rides   \n",
       "7  Buying experience is awesome, riding performan...        5  Daily Commute   \n",
       "8  Value for money. Really a thumbs up for the bi...        5     Everything   \n",
       "9  Please give protection to the battery, because...        4  Daily Commute   \n",
       "\n",
       "         duration        km_driven  \n",
       "0     Never owned                   \n",
       "1          > 1 yr       < 5000 kms  \n",
       "2      < 3 months       < 5000 kms  \n",
       "3     Never owned                   \n",
       "4          > 1 yr   5000-10000 kms  \n",
       "5          > 1 yr      > 15000 kms  \n",
       "6     Never owned                   \n",
       "7   6 months-1 yr       < 5000 kms  \n",
       "8     Never owned                   \n",
       "9     Never owned                   "
      ]
     },
     "execution_count": 20,
     "metadata": {},
     "output_type": "execute_result"
    }
   ],
   "source": [
    "df.head(10)"
   ]
  },
  {
   "cell_type": "code",
   "execution_count": 21,
   "id": "af89081f-9ce3-400e-8911-bc85b354b944",
   "metadata": {},
   "outputs": [
    {
     "name": "stdout",
     "output_type": "stream",
     "text": [
      "ratings \n",
      "\n",
      " 5    321\n",
      "1    227\n",
      "4    144\n",
      "3     64\n",
      "2     43\n",
      "Name: ratings, dtype: int64 \n",
      "\n",
      "\n",
      "\n",
      "usage \n",
      "\n",
      " Daily Commute         566\n",
      "Everything            154\n",
      "Occasional Commute     52\n",
      "Leisure Rides          19\n",
      "Tours                   8\n",
      "Name: usage, dtype: int64 \n",
      "\n",
      "\n",
      "\n",
      "duration \n",
      "\n",
      "  < 3 months            209\n",
      " > 1 yr                192\n",
      " Never owned           172\n",
      " 6 months-1 yr         126\n",
      " 3-6 months             99\n",
      " Occasional Commute      1\n",
      "Name: duration, dtype: int64 \n",
      "\n",
      "\n",
      "\n",
      "km_driven \n",
      "\n",
      "  < 5000 kms         430\n",
      "                    173\n",
      " 5000-10000 kms     129\n",
      " > 15000 kms         36\n",
      " 10000-15000 kms     30\n",
      " Never owned          1\n",
      "Name: km_driven, dtype: int64 \n",
      "\n",
      "\n",
      "\n"
     ]
    }
   ],
   "source": [
    "for col in df.columns[1:].values:\n",
    "    print(col,'\\n\\n' ,df[col].value_counts(), '\\n\\n\\n')"
   ]
  },
  {
   "cell_type": "code",
   "execution_count": 22,
   "id": "e66f79ff-249d-492e-99de-e786bc60a909",
   "metadata": {},
   "outputs": [],
   "source": [
    "from sklearn.preprocessing import OrdinalEncoder"
   ]
  },
  {
   "cell_type": "code",
   "execution_count": 23,
   "id": "d12a2b87-084d-4b10-adb9-5d2138e3207f",
   "metadata": {},
   "outputs": [],
   "source": [
    "ordinal = OrdinalEncoder()"
   ]
  },
  {
   "cell_type": "code",
   "execution_count": 24,
   "id": "28566c12-e493-4097-a159-99004e4dfce6",
   "metadata": {},
   "outputs": [],
   "source": [
    "columns = df.columns[2:].values\n",
    "df[columns] = ordinal.fit_transform(df[columns])"
   ]
  },
  {
   "cell_type": "code",
   "execution_count": 25,
   "id": "69448cfb-4e09-4ca6-b207-48199efca699",
   "metadata": {},
   "outputs": [
    {
     "data": {
      "text/html": [
       "<div>\n",
       "<style scoped>\n",
       "    .dataframe tbody tr th:only-of-type {\n",
       "        vertical-align: middle;\n",
       "    }\n",
       "\n",
       "    .dataframe tbody tr th {\n",
       "        vertical-align: top;\n",
       "    }\n",
       "\n",
       "    .dataframe thead th {\n",
       "        text-align: right;\n",
       "    }\n",
       "</style>\n",
       "<table border=\"1\" class=\"dataframe\">\n",
       "  <thead>\n",
       "    <tr style=\"text-align: right;\">\n",
       "      <th></th>\n",
       "      <th>reviews</th>\n",
       "      <th>ratings</th>\n",
       "      <th>usage</th>\n",
       "      <th>duration</th>\n",
       "      <th>km_driven</th>\n",
       "    </tr>\n",
       "  </thead>\n",
       "  <tbody>\n",
       "    <tr>\n",
       "      <th>0</th>\n",
       "      <td>Wanna buy this bike so i gave basic informatio...</td>\n",
       "      <td>1</td>\n",
       "      <td>1.0</td>\n",
       "      <td>4.0</td>\n",
       "      <td>0.0</td>\n",
       "    </tr>\n",
       "    <tr>\n",
       "      <th>1</th>\n",
       "      <td>This is simply amazing and exceptionally well ...</td>\n",
       "      <td>5</td>\n",
       "      <td>1.0</td>\n",
       "      <td>3.0</td>\n",
       "      <td>3.0</td>\n",
       "    </tr>\n",
       "    <tr>\n",
       "      <th>2</th>\n",
       "      <td>Battery life is good, I like this bike very mu...</td>\n",
       "      <td>5</td>\n",
       "      <td>1.0</td>\n",
       "      <td>2.0</td>\n",
       "      <td>3.0</td>\n",
       "    </tr>\n",
       "    <tr>\n",
       "      <th>3</th>\n",
       "      <td>I seen this bike on road. Very nice bike and g...</td>\n",
       "      <td>5</td>\n",
       "      <td>1.0</td>\n",
       "      <td>4.0</td>\n",
       "      <td>0.0</td>\n",
       "    </tr>\n",
       "    <tr>\n",
       "      <th>4</th>\n",
       "      <td>I have a rv400 I have the bike for almost more...</td>\n",
       "      <td>1</td>\n",
       "      <td>0.0</td>\n",
       "      <td>3.0</td>\n",
       "      <td>2.0</td>\n",
       "    </tr>\n",
       "    <tr>\n",
       "      <th>...</th>\n",
       "      <td>...</td>\n",
       "      <td>...</td>\n",
       "      <td>...</td>\n",
       "      <td>...</td>\n",
       "      <td>...</td>\n",
       "    </tr>\n",
       "    <tr>\n",
       "      <th>794</th>\n",
       "      <td>I brought this about 2 year back. usage are le...</td>\n",
       "      <td>1</td>\n",
       "      <td>0.0</td>\n",
       "      <td>3.0</td>\n",
       "      <td>2.0</td>\n",
       "    </tr>\n",
       "    <tr>\n",
       "      <th>795</th>\n",
       "      <td>Purchased on april 2019. After 3 month lock go...</td>\n",
       "      <td>3</td>\n",
       "      <td>0.0</td>\n",
       "      <td>1.0</td>\n",
       "      <td>3.0</td>\n",
       "    </tr>\n",
       "    <tr>\n",
       "      <th>796</th>\n",
       "      <td>Got it delivered to me from pune...Doesn't fee...</td>\n",
       "      <td>5</td>\n",
       "      <td>0.0</td>\n",
       "      <td>3.0</td>\n",
       "      <td>2.0</td>\n",
       "    </tr>\n",
       "    <tr>\n",
       "      <th>797</th>\n",
       "      <td>Bought 2W in 2019 for 55,000-60,000/-. Have cl...</td>\n",
       "      <td>4</td>\n",
       "      <td>0.0</td>\n",
       "      <td>3.0</td>\n",
       "      <td>2.0</td>\n",
       "    </tr>\n",
       "    <tr>\n",
       "      <th>798</th>\n",
       "      <td>Overall experience is good. Charging time is a...</td>\n",
       "      <td>4</td>\n",
       "      <td>0.0</td>\n",
       "      <td>0.0</td>\n",
       "      <td>2.0</td>\n",
       "    </tr>\n",
       "  </tbody>\n",
       "</table>\n",
       "<p>799 rows × 5 columns</p>\n",
       "</div>"
      ],
      "text/plain": [
       "                                               reviews  ratings  usage  \\\n",
       "0    Wanna buy this bike so i gave basic informatio...        1    1.0   \n",
       "1    This is simply amazing and exceptionally well ...        5    1.0   \n",
       "2    Battery life is good, I like this bike very mu...        5    1.0   \n",
       "3    I seen this bike on road. Very nice bike and g...        5    1.0   \n",
       "4    I have a rv400 I have the bike for almost more...        1    0.0   \n",
       "..                                                 ...      ...    ...   \n",
       "794  I brought this about 2 year back. usage are le...        1    0.0   \n",
       "795  Purchased on april 2019. After 3 month lock go...        3    0.0   \n",
       "796  Got it delivered to me from pune...Doesn't fee...        5    0.0   \n",
       "797  Bought 2W in 2019 for 55,000-60,000/-. Have cl...        4    0.0   \n",
       "798  Overall experience is good. Charging time is a...        4    0.0   \n",
       "\n",
       "     duration  km_driven  \n",
       "0         4.0        0.0  \n",
       "1         3.0        3.0  \n",
       "2         2.0        3.0  \n",
       "3         4.0        0.0  \n",
       "4         3.0        2.0  \n",
       "..        ...        ...  \n",
       "794       3.0        2.0  \n",
       "795       1.0        3.0  \n",
       "796       3.0        2.0  \n",
       "797       3.0        2.0  \n",
       "798       0.0        2.0  \n",
       "\n",
       "[799 rows x 5 columns]"
      ]
     },
     "execution_count": 25,
     "metadata": {},
     "output_type": "execute_result"
    }
   ],
   "source": [
    "df"
   ]
  },
  {
   "cell_type": "code",
   "execution_count": 26,
   "id": "e1912fea-011a-4e3e-beef-3ce03be63694",
   "metadata": {},
   "outputs": [],
   "source": [
    "start = [0, 0, 0, 0, 0]"
   ]
  },
  {
   "cell_type": "code",
   "execution_count": 28,
   "id": "7c8b5e26-48ec-450c-9fb1-7ddcdd5c9163",
   "metadata": {},
   "outputs": [],
   "source": [
    "start[0]+=1"
   ]
  },
  {
   "cell_type": "code",
   "execution_count": 29,
   "id": "2d96a45e-65ae-462b-9484-393806517ae9",
   "metadata": {},
   "outputs": [
    {
     "data": {
      "text/plain": [
       "[1, 0, 0, 0, 0]"
      ]
     },
     "execution_count": 29,
     "metadata": {},
     "output_type": "execute_result"
    }
   ],
   "source": [
    "start"
   ]
  },
  {
   "cell_type": "code",
   "execution_count": 30,
   "id": "e05377e9-ef1d-4863-a12f-c2149f44bbc7",
   "metadata": {},
   "outputs": [],
   "source": [
    "end =[]\n",
    "start = []"
   ]
  },
  {
   "cell_type": "code",
   "execution_count": 36,
   "id": "83e973f1-ba78-4da6-ad69-c9678dab0faf",
   "metadata": {},
   "outputs": [],
   "source": [
    "my_dict = {\"one\":[] , \"two\": []}"
   ]
  },
  {
   "cell_type": "code",
   "execution_count": 38,
   "id": "e917584e-a1ae-49d1-ae6c-ac94d2e34684",
   "metadata": {},
   "outputs": [],
   "source": [
    "my_dict[\"one\"].append(1)"
   ]
  },
  {
   "cell_type": "code",
   "execution_count": 39,
   "id": "23fd0136-48a8-44f0-8701-3d6725a9b86c",
   "metadata": {},
   "outputs": [
    {
     "data": {
      "text/plain": [
       "{'one': [1], 'two': []}"
      ]
     },
     "execution_count": 39,
     "metadata": {},
     "output_type": "execute_result"
    }
   ],
   "source": [
    "my_dict"
   ]
  },
  {
   "cell_type": "code",
   "execution_count": 61,
   "id": "26e8d67a-9867-40b5-8b97-f23bacc76cb4",
   "metadata": {},
   "outputs": [],
   "source": [
    "df = pd.read_csv('reviews/Newcardekho.csv', names=[\"reviews\", \"ratings\", \"attributes\"])"
   ]
  },
  {
   "cell_type": "code",
   "execution_count": 66,
   "id": "49176e7c-acf7-4b0c-b6ec-b1d996a66326",
   "metadata": {},
   "outputs": [],
   "source": [
    "df.dropna(inplace=True)\n",
    "df.drop_duplicates(inplace=True)\n",
    "df.reset_index(drop = True, inplace=True)"
   ]
  },
  {
   "cell_type": "code",
   "execution_count": 63,
   "id": "47242f81-8225-43d9-8600-09be7cc66deb",
   "metadata": {},
   "outputs": [],
   "source": [
    "df[\"reviews\"] = df[\"reviews\"].apply(lambda x: '' if x == \"Read More\" else x)\n",
    "df[\"reviews\"] = df[\"reviews\"].apply(lambda x: np.nan if re.findall(\"selenium\", x) else x)"
   ]
  },
  {
   "cell_type": "code",
   "execution_count": 69,
   "id": "24de0fca-6c25-45fa-991f-fd8b7ce16749",
   "metadata": {},
   "outputs": [
    {
     "data": {
      "text/html": [
       "<div>\n",
       "<style scoped>\n",
       "    .dataframe tbody tr th:only-of-type {\n",
       "        vertical-align: middle;\n",
       "    }\n",
       "\n",
       "    .dataframe tbody tr th {\n",
       "        vertical-align: top;\n",
       "    }\n",
       "\n",
       "    .dataframe thead th {\n",
       "        text-align: right;\n",
       "    }\n",
       "</style>\n",
       "<table border=\"1\" class=\"dataframe\">\n",
       "  <thead>\n",
       "    <tr style=\"text-align: right;\">\n",
       "      <th></th>\n",
       "      <th>reviews</th>\n",
       "      <th>ratings</th>\n",
       "      <th>attributes</th>\n",
       "    </tr>\n",
       "  </thead>\n",
       "  <tbody>\n",
       "    <tr>\n",
       "      <th>0</th>\n",
       "      <td>Nice car with good build quality and safety. P...</td>\n",
       "      <td>5.0</td>\n",
       "      <td>mileage</td>\n",
       "    </tr>\n",
       "    <tr>\n",
       "      <th>1</th>\n",
       "      <td>Nice performance, full comfort in the car. Ver...</td>\n",
       "      <td>5.0</td>\n",
       "      <td>mileage</td>\n",
       "    </tr>\n",
       "    <tr>\n",
       "      <th>2</th>\n",
       "      <td>It is a very good car as compared to other EVs...</td>\n",
       "      <td>5.0</td>\n",
       "      <td>mileage</td>\n",
       "    </tr>\n",
       "    <tr>\n",
       "      <th>3</th>\n",
       "      <td></td>\n",
       "      <td>4.0</td>\n",
       "      <td>mileage</td>\n",
       "    </tr>\n",
       "    <tr>\n",
       "      <th>4</th>\n",
       "      <td>Really happy to have Tata Nexon EV. It gives g...</td>\n",
       "      <td>5.0</td>\n",
       "      <td>mileage</td>\n",
       "    </tr>\n",
       "    <tr>\n",
       "      <th>...</th>\n",
       "      <td>...</td>\n",
       "      <td>...</td>\n",
       "      <td>...</td>\n",
       "    </tr>\n",
       "    <tr>\n",
       "      <th>143</th>\n",
       "      <td></td>\n",
       "      <td>5.0</td>\n",
       "      <td>parts</td>\n",
       "    </tr>\n",
       "    <tr>\n",
       "      <th>144</th>\n",
       "      <td></td>\n",
       "      <td>4.5</td>\n",
       "      <td>sensors</td>\n",
       "    </tr>\n",
       "    <tr>\n",
       "      <th>145</th>\n",
       "      <td></td>\n",
       "      <td>2.0</td>\n",
       "      <td>showroom</td>\n",
       "    </tr>\n",
       "    <tr>\n",
       "      <th>146</th>\n",
       "      <td></td>\n",
       "      <td>4.5</td>\n",
       "      <td>vent</td>\n",
       "    </tr>\n",
       "    <tr>\n",
       "      <th>147</th>\n",
       "      <td></td>\n",
       "      <td>4.5</td>\n",
       "      <td>wheel</td>\n",
       "    </tr>\n",
       "  </tbody>\n",
       "</table>\n",
       "<p>148 rows × 3 columns</p>\n",
       "</div>"
      ],
      "text/plain": [
       "                                               reviews  ratings attributes\n",
       "0    Nice car with good build quality and safety. P...      5.0    mileage\n",
       "1    Nice performance, full comfort in the car. Ver...      5.0    mileage\n",
       "2    It is a very good car as compared to other EVs...      5.0    mileage\n",
       "3                                                           4.0    mileage\n",
       "4    Really happy to have Tata Nexon EV. It gives g...      5.0    mileage\n",
       "..                                                 ...      ...        ...\n",
       "143                                                         5.0      parts\n",
       "144                                                         4.5    sensors\n",
       "145                                                         2.0   showroom\n",
       "146                                                         4.5       vent\n",
       "147                                                         4.5      wheel\n",
       "\n",
       "[148 rows x 3 columns]"
      ]
     },
     "execution_count": 69,
     "metadata": {},
     "output_type": "execute_result"
    }
   ],
   "source": []
  },
  {
   "cell_type": "code",
   "execution_count": null,
   "id": "a3209097-c325-436c-8630-2b355eaea0ea",
   "metadata": {},
   "outputs": [],
   "source": []
  },
  {
   "cell_type": "code",
   "execution_count": 57,
   "id": "4092acbc-8393-46e5-a6e8-5db295d55f02",
   "metadata": {},
   "outputs": [
    {
     "data": {
      "text/plain": [
       "['selenium', 'selenium']"
      ]
     },
     "execution_count": 57,
     "metadata": {},
     "output_type": "execute_result"
    }
   ],
   "source": []
  },
  {
   "cell_type": "code",
   "execution_count": null,
   "id": "24a3526d-6a25-4bd0-9009-a40163a93c3e",
   "metadata": {},
   "outputs": [],
   "source": []
  }
 ],
 "metadata": {
  "kernelspec": {
   "display_name": "Python 3.10.4 64-bit",
   "language": "python",
   "name": "python3"
  },
  "language_info": {
   "codemirror_mode": {
    "name": "ipython",
    "version": 3
   },
   "file_extension": ".py",
   "mimetype": "text/x-python",
   "name": "python",
   "nbconvert_exporter": "python",
   "pygments_lexer": "ipython3",
   "version": "3.10.4"
  },
  "vscode": {
   "interpreter": {
    "hash": "916dbcbb3f70747c44a77c7bcd40155683ae19c65e1c03b4aa3499c5328201f1"
   }
  }
 },
 "nbformat": 4,
 "nbformat_minor": 5
}
