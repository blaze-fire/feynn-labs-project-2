{
 "cells": [
  {
   "cell_type": "code",
   "execution_count": 27,
   "id": "04432b8f-cee2-4ace-87e6-7d7027174e05",
   "metadata": {},
   "outputs": [],
   "source": [
    "import pandas as pd\n",
    "import warnings\n",
    "\n",
    "import numpy as np\n",
    "\n",
    "import matplotlib.pyplot as plt\n",
    "import seaborn as sns\n",
    "from sklearn.decomposition import PCA\n",
    "from sklearn.preprocessing import OrdinalEncoder\n",
    "from sklearn.preprocessing import StandardScaler\n",
    "from sklearn.metrics import silhouette_samples, silhouette_score\n",
    "from sklearn.cluster import KMeans"
   ]
  },
  {
   "cell_type": "code",
   "execution_count": 2,
   "id": "d90b14a2-933d-4524-b8d8-8c0b74fc9f38",
   "metadata": {},
   "outputs": [],
   "source": [
    "warnings.filterwarnings(\"ignore\", category=DeprecationWarning)\n",
    "warnings.filterwarnings(\"ignore\", category=FutureWarning)"
   ]
  },
  {
   "cell_type": "code",
   "execution_count": null,
   "id": "e3728c8c-dfb7-4e9e-bd39-e464e89caf87",
   "metadata": {},
   "outputs": [],
   "source": []
  },
  {
   "cell_type": "markdown",
   "id": "1660b06d-3aaf-42b4-9263-6cc51d079a66",
   "metadata": {},
   "source": [
    "<h2>Scraping Techniques</h2>\n",
    "\n",
    "* As was mentioned in the problem statement Data Collection was the most difficult task.\n",
    "* There are only a couple of E4W in India, that's why data had to be collected from multiple sources, also only few users have posted reviews, therfore the datset size is also small compared to E2W's\n",
    "* Different methods had to be adopted to scrape from these sites as they display information differently \n",
    "<br><br>\n",
    "\n",
    "* `Like for` **carwale.com** `all links of user reviews had to be extracted and then visiting each link the mentioned attributes were extracted`\n",
    "<br>\n",
    "<img src=\"images/carwale.png\" alt=\"carwale\" style=\"width: 50%;height: 40%\"/>\n"
   ]
  },
  {
   "cell_type": "code",
   "execution_count": 6,
   "id": "63d5c3bd-ce73-4bbb-bb37-162e62bf123d",
   "metadata": {},
   "outputs": [],
   "source": [
    "df = pd.read_csv('reviews/carwale.csv')"
   ]
  },
  {
   "cell_type": "code",
   "execution_count": 7,
   "id": "3c72a461-2056-4de3-a9a6-57218e6ae63e",
   "metadata": {},
   "outputs": [],
   "source": [
    "df.drop_duplicates(inplace=True)\n",
    "df.reset_index(drop=True, inplace=True)\n",
    "df.drop(['review'], axis=1, inplace=True)"
   ]
  },
  {
   "cell_type": "code",
   "execution_count": 8,
   "id": "c0523da6-6ea3-4425-bd04-5d385e318eb1",
   "metadata": {},
   "outputs": [
    {
     "name": "stdout",
     "output_type": "stream",
     "text": [
      "<class 'pandas.core.frame.DataFrame'>\n",
      "RangeIndex: 129 entries, 0 to 128\n",
      "Data columns (total 8 columns):\n",
      " #   Column           Non-Null Count  Dtype  \n",
      "---  ------           --------------  -----  \n",
      " 0   Exterior         129 non-null    float64\n",
      " 1   Comfort          129 non-null    float64\n",
      " 2   Performance      129 non-null    float64\n",
      " 3   Fuel Economy     129 non-null    float64\n",
      " 4   Value for Money  129 non-null    float64\n",
      " 5   Condition        129 non-null    object \n",
      " 6   driven           129 non-null    object \n",
      " 7   rating           129 non-null    float64\n",
      "dtypes: float64(6), object(2)\n",
      "memory usage: 8.2+ KB\n"
     ]
    }
   ],
   "source": [
    "df.info()"
   ]
  },
  {
   "cell_type": "code",
   "execution_count": 9,
   "id": "77485bb1-2034-4fc1-aab6-81198bc7883f",
   "metadata": {},
   "outputs": [
    {
     "data": {
      "text/html": [
       "<div>\n",
       "<style scoped>\n",
       "    .dataframe tbody tr th:only-of-type {\n",
       "        vertical-align: middle;\n",
       "    }\n",
       "\n",
       "    .dataframe tbody tr th {\n",
       "        vertical-align: top;\n",
       "    }\n",
       "\n",
       "    .dataframe thead th {\n",
       "        text-align: right;\n",
       "    }\n",
       "</style>\n",
       "<table border=\"1\" class=\"dataframe\">\n",
       "  <thead>\n",
       "    <tr style=\"text-align: right;\">\n",
       "      <th></th>\n",
       "      <th>Exterior</th>\n",
       "      <th>Comfort</th>\n",
       "      <th>Performance</th>\n",
       "      <th>Fuel Economy</th>\n",
       "      <th>Value for Money</th>\n",
       "      <th>Condition</th>\n",
       "      <th>driven</th>\n",
       "      <th>rating</th>\n",
       "    </tr>\n",
       "  </thead>\n",
       "  <tbody>\n",
       "    <tr>\n",
       "      <th>0</th>\n",
       "      <td>5.0</td>\n",
       "      <td>5.0</td>\n",
       "      <td>5.0</td>\n",
       "      <td>5.0</td>\n",
       "      <td>5.0</td>\n",
       "      <td>New</td>\n",
       "      <td>Few thousand kilometers</td>\n",
       "      <td>5.0</td>\n",
       "    </tr>\n",
       "    <tr>\n",
       "      <th>1</th>\n",
       "      <td>3.0</td>\n",
       "      <td>2.0</td>\n",
       "      <td>1.0</td>\n",
       "      <td>2.0</td>\n",
       "      <td>1.0</td>\n",
       "      <td>New</td>\n",
       "      <td>Few thousand kilometers</td>\n",
       "      <td>0.0</td>\n",
       "    </tr>\n",
       "    <tr>\n",
       "      <th>2</th>\n",
       "      <td>5.0</td>\n",
       "      <td>5.0</td>\n",
       "      <td>5.0</td>\n",
       "      <td>5.0</td>\n",
       "      <td>5.0</td>\n",
       "      <td>New</td>\n",
       "      <td>Few thousand kilometers</td>\n",
       "      <td>5.0</td>\n",
       "    </tr>\n",
       "    <tr>\n",
       "      <th>3</th>\n",
       "      <td>2.0</td>\n",
       "      <td>2.0</td>\n",
       "      <td>1.0</td>\n",
       "      <td>1.0</td>\n",
       "      <td>1.0</td>\n",
       "      <td>New</td>\n",
       "      <td>Haven't driven it</td>\n",
       "      <td>0.0</td>\n",
       "    </tr>\n",
       "    <tr>\n",
       "      <th>4</th>\n",
       "      <td>5.0</td>\n",
       "      <td>5.0</td>\n",
       "      <td>5.0</td>\n",
       "      <td>5.0</td>\n",
       "      <td>5.0</td>\n",
       "      <td>Not Purchased</td>\n",
       "      <td>Few hundred kilometers</td>\n",
       "      <td>5.0</td>\n",
       "    </tr>\n",
       "    <tr>\n",
       "      <th>5</th>\n",
       "      <td>1.0</td>\n",
       "      <td>1.0</td>\n",
       "      <td>1.0</td>\n",
       "      <td>1.0</td>\n",
       "      <td>1.0</td>\n",
       "      <td>New</td>\n",
       "      <td>Haven't driven it</td>\n",
       "      <td>0.0</td>\n",
       "    </tr>\n",
       "    <tr>\n",
       "      <th>6</th>\n",
       "      <td>5.0</td>\n",
       "      <td>5.0</td>\n",
       "      <td>5.0</td>\n",
       "      <td>5.0</td>\n",
       "      <td>5.0</td>\n",
       "      <td>Used</td>\n",
       "      <td>Few thousand kilometers</td>\n",
       "      <td>5.0</td>\n",
       "    </tr>\n",
       "    <tr>\n",
       "      <th>7</th>\n",
       "      <td>5.0</td>\n",
       "      <td>5.0</td>\n",
       "      <td>5.0</td>\n",
       "      <td>5.0</td>\n",
       "      <td>5.0</td>\n",
       "      <td>Not Purchased</td>\n",
       "      <td>Haven't driven it</td>\n",
       "      <td>5.0</td>\n",
       "    </tr>\n",
       "    <tr>\n",
       "      <th>8</th>\n",
       "      <td>5.0</td>\n",
       "      <td>5.0</td>\n",
       "      <td>5.0</td>\n",
       "      <td>5.0</td>\n",
       "      <td>5.0</td>\n",
       "      <td>Not Purchased</td>\n",
       "      <td>Haven't driven it</td>\n",
       "      <td>5.0</td>\n",
       "    </tr>\n",
       "    <tr>\n",
       "      <th>9</th>\n",
       "      <td>4.0</td>\n",
       "      <td>5.0</td>\n",
       "      <td>5.0</td>\n",
       "      <td>5.0</td>\n",
       "      <td>5.0</td>\n",
       "      <td>New</td>\n",
       "      <td>Few hundred kilometers</td>\n",
       "      <td>5.0</td>\n",
       "    </tr>\n",
       "  </tbody>\n",
       "</table>\n",
       "</div>"
      ],
      "text/plain": [
       "   Exterior  Comfort  Performance  Fuel Economy  Value for Money  \\\n",
       "0       5.0      5.0          5.0           5.0              5.0   \n",
       "1       3.0      2.0          1.0           2.0              1.0   \n",
       "2       5.0      5.0          5.0           5.0              5.0   \n",
       "3       2.0      2.0          1.0           1.0              1.0   \n",
       "4       5.0      5.0          5.0           5.0              5.0   \n",
       "5       1.0      1.0          1.0           1.0              1.0   \n",
       "6       5.0      5.0          5.0           5.0              5.0   \n",
       "7       5.0      5.0          5.0           5.0              5.0   \n",
       "8       5.0      5.0          5.0           5.0              5.0   \n",
       "9       4.0      5.0          5.0           5.0              5.0   \n",
       "\n",
       "       Condition                   driven  rating  \n",
       "0            New  Few thousand kilometers     5.0  \n",
       "1            New  Few thousand kilometers     0.0  \n",
       "2            New  Few thousand kilometers     5.0  \n",
       "3            New        Haven't driven it     0.0  \n",
       "4  Not Purchased   Few hundred kilometers     5.0  \n",
       "5            New        Haven't driven it     0.0  \n",
       "6           Used  Few thousand kilometers     5.0  \n",
       "7  Not Purchased        Haven't driven it     5.0  \n",
       "8  Not Purchased        Haven't driven it     5.0  \n",
       "9            New   Few hundred kilometers     5.0  "
      ]
     },
     "execution_count": 9,
     "metadata": {},
     "output_type": "execute_result"
    }
   ],
   "source": [
    "df.head(10)"
   ]
  },
  {
   "cell_type": "code",
   "execution_count": null,
   "id": "25610ca1-de22-46de-af0f-cbf14c99c7c2",
   "metadata": {},
   "outputs": [],
   "source": []
  },
  {
   "cell_type": "markdown",
   "id": "27fffdf3-5ae8-44be-b18b-c7977c951b04",
   "metadata": {},
   "source": [
    "# Psychographic Analysis\n",
    "### Here we can analyse all the preferences and reviews of the customers on various aspects."
   ]
  },
  {
   "cell_type": "code",
   "execution_count": 10,
   "id": "82541cab-e83c-452f-b517-4a9f6d0f02d6",
   "metadata": {
    "scrolled": true,
    "tags": []
   },
   "outputs": [
    {
     "data": {
      "image/png": "[encoded data removed]",
      "text/plain": [
       "<Figure size 1296x1800 with 6 Axes>"
      ]
     },
     "metadata": {
      "needs_background": "light"
     },
     "output_type": "display_data"
    }
   ],
   "source": [
    "fig, axes = plt.subplots(nrows=3, ncols=2, figsize=(18, 25))\n",
    "splot = sns.countplot(data = df,x='Exterior', ax=axes[0][0])\n",
    "for p in splot.patches:\n",
    "               splot.annotate(format(p.get_height(), '.1f'), \n",
    "               (p.get_x() + p.get_width() / 2., p.get_height()), \n",
    "               ha = 'center', va = 'center', \n",
    "               xytext = (0, 9), \n",
    "               textcoords = 'offset points')\n",
    "        \n",
    "splot = sns.countplot(data = df,x='Comfort', ax=axes[0][1])\n",
    "for p in splot.patches:\n",
    "               splot.annotate(format(p.get_height(), '.1f'), \n",
    "               (p.get_x() + p.get_width() / 2., p.get_height()), \n",
    "               ha = 'center', va = 'center', \n",
    "               xytext = (0, 9), \n",
    "               textcoords = 'offset points')\n",
    "\n",
    "splot = sns.countplot(data = df,x='Performance', ax=axes[1][0])\n",
    "for p in splot.patches:\n",
    "               splot.annotate(format(p.get_height(), '.1f'), \n",
    "               (p.get_x() + p.get_width() / 2., p.get_height()), \n",
    "               ha = 'center', va = 'center', \n",
    "               xytext = (0, 9), \n",
    "               textcoords = 'offset points')\n",
    "\n",
    "splot = sns.countplot(data = df,x='Fuel Economy', ax=axes[1][1])\n",
    "for p in splot.patches:\n",
    "               splot.annotate(format(p.get_height(), '.1f'), \n",
    "               (p.get_x() + p.get_width() / 2., p.get_height()), \n",
    "               ha = 'center', va = 'center', \n",
    "               xytext = (0, 9), \n",
    "               textcoords = 'offset points')\n",
    "\n",
    "\n",
    "splot = sns.countplot(data = df,x='Value for Money', ax=axes[2][0])\n",
    "for p in splot.patches:\n",
    "               splot.annotate(format(p.get_height(), '.1f'), \n",
    "               (p.get_x() + p.get_width() / 2., p.get_height()), \n",
    "               ha = 'center', va = 'center', \n",
    "               xytext = (0, 9), \n",
    "               textcoords = 'offset points')\n",
    "\n"
   ]
  },
  {
   "cell_type": "markdown",
   "id": "ed58f731-a971-4e27-9eae-3417552fef20",
   "metadata": {},
   "source": [
    "**Conclusions**\n",
    "\n",
    "* People concerns for EV's are regarding Exterior Comfort Performance and Fuel Economy.\n",
    "\n",
    "* People seem to be very postive about every aspect of EV's\n"
   ]
  },
  {
   "cell_type": "markdown",
   "id": "d8dc901a-9988-418d-a7fc-86a6e774fa75",
   "metadata": {},
   "source": [
    "# Behavioral Analysis\n",
    "### We can look into the behavioral aspect of users,"
   ]
  },
  {
   "cell_type": "code",
   "execution_count": 11,
   "id": "3726d0ab-5b2f-45e6-9e8c-173d343dab0f",
   "metadata": {},
   "outputs": [
    {
     "data": {
      "image/png": "[encoded data removed]",
      "text/plain": [
       "<Figure size 1080x432 with 1 Axes>"
      ]
     },
     "metadata": {
      "needs_background": "light"
     },
     "output_type": "display_data"
    },
    {
     "data": {
      "image/png": "[encoded data removed]",
      "text/plain": [
       "<Figure size 1080x432 with 1 Axes>"
      ]
     },
     "metadata": {
      "needs_background": "light"
     },
     "output_type": "display_data"
    }
   ],
   "source": [
    "for col in df.columns[-3:-1].values:\n",
    "    plt.figure(figsize=(15, 6))\n",
    "    splot = sns.countplot(df[col])\n",
    "    for p in splot.patches:\n",
    "               splot.annotate(format(p.get_height(), '.1f'), \n",
    "               (p.get_x() + p.get_width() / 2., p.get_height()), \n",
    "               ha = 'center', va = 'center', \n",
    "               xytext = (0, 9), \n",
    "               textcoords = 'offset points')\n",
    "    plt.show(block=False)\n"
   ]
  },
  {
   "cell_type": "code",
   "execution_count": null,
   "id": "edacd990-6f4e-429b-89a1-753e199e5de4",
   "metadata": {},
   "outputs": [],
   "source": []
  },
  {
   "cell_type": "markdown",
   "id": "fdfc9da7-6c6d-4906-b126-42d83fc95332",
   "metadata": {
    "tags": []
   },
   "source": [
    "# Segmentation"
   ]
  },
  {
   "cell_type": "code",
   "execution_count": 14,
   "id": "aa669e80-3ea7-47ed-b5f1-8549f645284b",
   "metadata": {},
   "outputs": [
    {
     "name": "stdout",
     "output_type": "stream",
     "text": [
      "Exterior 0.0\n",
      "Comfort 0.0\n",
      "Performance 0.0\n",
      "Fuel Economy 0.0\n",
      "Value for Money 0.0\n",
      "Condition 0.0\n",
      "driven 0.0\n",
      "rating 0.0\n"
     ]
    }
   ],
   "source": [
    "for col in df.columns:\n",
    "    print(col, df[col].isnull().sum()/len(df)*100)"
   ]
  },
  {
   "cell_type": "code",
   "execution_count": 19,
   "id": "afd7d020-d1a1-4630-b457-ddd3061b0b14",
   "metadata": {},
   "outputs": [],
   "source": [
    "ordinalEncoder = OrdinalEncoder()\n",
    "transformed = ordinalEncoder.fit_transform(df.loc[:,['Condition', 'driven']].values)\n",
    "transformed = pd.DataFrame(transformed, columns=['Condition', 'driven'])\n",
    "df.drop(['Condition', 'driven'], inplace=True, axis=1)\n",
    "df = pd.concat([transformed, df], axis=1)"
   ]
  },
  {
   "cell_type": "code",
   "execution_count": 20,
   "id": "93ef4158-5c46-4f0a-91aa-ed4d4c6688df",
   "metadata": {},
   "outputs": [
    {
     "data": {
      "text/html": [
       "<div>\n",
       "<style scoped>\n",
       "    .dataframe tbody tr th:only-of-type {\n",
       "        vertical-align: middle;\n",
       "    }\n",
       "\n",
       "    .dataframe tbody tr th {\n",
       "        vertical-align: top;\n",
       "    }\n",
       "\n",
       "    .dataframe thead th {\n",
       "        text-align: right;\n",
       "    }\n",
       "</style>\n",
       "<table border=\"1\" class=\"dataframe\">\n",
       "  <thead>\n",
       "    <tr style=\"text-align: right;\">\n",
       "      <th></th>\n",
       "      <th>Condition</th>\n",
       "      <th>driven</th>\n",
       "      <th>Exterior</th>\n",
       "      <th>Comfort</th>\n",
       "      <th>Performance</th>\n",
       "      <th>Fuel Economy</th>\n",
       "      <th>Value for Money</th>\n",
       "      <th>rating</th>\n",
       "    </tr>\n",
       "  </thead>\n",
       "  <tbody>\n",
       "    <tr>\n",
       "      <th>0</th>\n",
       "      <td>0.0</td>\n",
       "      <td>2.0</td>\n",
       "      <td>5.0</td>\n",
       "      <td>5.0</td>\n",
       "      <td>5.0</td>\n",
       "      <td>5.0</td>\n",
       "      <td>5.0</td>\n",
       "      <td>5.0</td>\n",
       "    </tr>\n",
       "    <tr>\n",
       "      <th>1</th>\n",
       "      <td>0.0</td>\n",
       "      <td>2.0</td>\n",
       "      <td>3.0</td>\n",
       "      <td>2.0</td>\n",
       "      <td>1.0</td>\n",
       "      <td>2.0</td>\n",
       "      <td>1.0</td>\n",
       "      <td>0.0</td>\n",
       "    </tr>\n",
       "    <tr>\n",
       "      <th>2</th>\n",
       "      <td>0.0</td>\n",
       "      <td>2.0</td>\n",
       "      <td>5.0</td>\n",
       "      <td>5.0</td>\n",
       "      <td>5.0</td>\n",
       "      <td>5.0</td>\n",
       "      <td>5.0</td>\n",
       "      <td>5.0</td>\n",
       "    </tr>\n",
       "    <tr>\n",
       "      <th>3</th>\n",
       "      <td>0.0</td>\n",
       "      <td>3.0</td>\n",
       "      <td>2.0</td>\n",
       "      <td>2.0</td>\n",
       "      <td>1.0</td>\n",
       "      <td>1.0</td>\n",
       "      <td>1.0</td>\n",
       "      <td>0.0</td>\n",
       "    </tr>\n",
       "    <tr>\n",
       "      <th>4</th>\n",
       "      <td>1.0</td>\n",
       "      <td>1.0</td>\n",
       "      <td>5.0</td>\n",
       "      <td>5.0</td>\n",
       "      <td>5.0</td>\n",
       "      <td>5.0</td>\n",
       "      <td>5.0</td>\n",
       "      <td>5.0</td>\n",
       "    </tr>\n",
       "    <tr>\n",
       "      <th>...</th>\n",
       "      <td>...</td>\n",
       "      <td>...</td>\n",
       "      <td>...</td>\n",
       "      <td>...</td>\n",
       "      <td>...</td>\n",
       "      <td>...</td>\n",
       "      <td>...</td>\n",
       "      <td>...</td>\n",
       "    </tr>\n",
       "    <tr>\n",
       "      <th>124</th>\n",
       "      <td>1.0</td>\n",
       "      <td>3.0</td>\n",
       "      <td>5.0</td>\n",
       "      <td>5.0</td>\n",
       "      <td>4.0</td>\n",
       "      <td>5.0</td>\n",
       "      <td>3.0</td>\n",
       "      <td>3.0</td>\n",
       "    </tr>\n",
       "    <tr>\n",
       "      <th>125</th>\n",
       "      <td>1.0</td>\n",
       "      <td>3.0</td>\n",
       "      <td>3.0</td>\n",
       "      <td>2.0</td>\n",
       "      <td>2.0</td>\n",
       "      <td>3.0</td>\n",
       "      <td>1.0</td>\n",
       "      <td>2.0</td>\n",
       "    </tr>\n",
       "    <tr>\n",
       "      <th>126</th>\n",
       "      <td>1.0</td>\n",
       "      <td>1.0</td>\n",
       "      <td>4.0</td>\n",
       "      <td>4.0</td>\n",
       "      <td>4.0</td>\n",
       "      <td>4.0</td>\n",
       "      <td>2.0</td>\n",
       "      <td>4.0</td>\n",
       "    </tr>\n",
       "    <tr>\n",
       "      <th>127</th>\n",
       "      <td>1.0</td>\n",
       "      <td>3.0</td>\n",
       "      <td>5.0</td>\n",
       "      <td>5.0</td>\n",
       "      <td>5.0</td>\n",
       "      <td>5.0</td>\n",
       "      <td>5.0</td>\n",
       "      <td>5.0</td>\n",
       "    </tr>\n",
       "    <tr>\n",
       "      <th>128</th>\n",
       "      <td>0.0</td>\n",
       "      <td>0.0</td>\n",
       "      <td>5.0</td>\n",
       "      <td>5.0</td>\n",
       "      <td>5.0</td>\n",
       "      <td>5.0</td>\n",
       "      <td>5.0</td>\n",
       "      <td>5.0</td>\n",
       "    </tr>\n",
       "  </tbody>\n",
       "</table>\n",
       "<p>129 rows × 8 columns</p>\n",
       "</div>"
      ],
      "text/plain": [
       "     Condition  driven  Exterior  Comfort  Performance  Fuel Economy  \\\n",
       "0          0.0     2.0       5.0      5.0          5.0           5.0   \n",
       "1          0.0     2.0       3.0      2.0          1.0           2.0   \n",
       "2          0.0     2.0       5.0      5.0          5.0           5.0   \n",
       "3          0.0     3.0       2.0      2.0          1.0           1.0   \n",
       "4          1.0     1.0       5.0      5.0          5.0           5.0   \n",
       "..         ...     ...       ...      ...          ...           ...   \n",
       "124        1.0     3.0       5.0      5.0          4.0           5.0   \n",
       "125        1.0     3.0       3.0      2.0          2.0           3.0   \n",
       "126        1.0     1.0       4.0      4.0          4.0           4.0   \n",
       "127        1.0     3.0       5.0      5.0          5.0           5.0   \n",
       "128        0.0     0.0       5.0      5.0          5.0           5.0   \n",
       "\n",
       "     Value for Money  rating  \n",
       "0                5.0     5.0  \n",
       "1                1.0     0.0  \n",
       "2                5.0     5.0  \n",
       "3                1.0     0.0  \n",
       "4                5.0     5.0  \n",
       "..               ...     ...  \n",
       "124              3.0     3.0  \n",
       "125              1.0     2.0  \n",
       "126              2.0     4.0  \n",
       "127              5.0     5.0  \n",
       "128              5.0     5.0  \n",
       "\n",
       "[129 rows x 8 columns]"
      ]
     },
     "execution_count": 20,
     "metadata": {},
     "output_type": "execute_result"
    }
   ],
   "source": [
    "df"
   ]
  },
  {
   "cell_type": "markdown",
   "id": "7e0456ff-7715-4015-bc09-571d93361207",
   "metadata": {},
   "source": [
    "## PCA and defining k for clustering"
   ]
  },
  {
   "cell_type": "code",
   "execution_count": 21,
   "id": "b0a9d9e9-414d-49b5-b49f-713d13c60a82",
   "metadata": {},
   "outputs": [],
   "source": [
    "scaled_data = StandardScaler().fit_transform(df.values)\n",
    "\n",
    "pca = PCA(n_components=0.95)\n",
    "\n",
    "values = pca.fit_transform(scaled_data)"
   ]
  },
  {
   "cell_type": "code",
   "execution_count": 29,
   "id": "886bbbe3",
   "metadata": {},
   "outputs": [
    {
     "name": "stdout",
     "output_type": "stream",
     "text": [
      "Silhoutte score for k = 2 is 0.5744083131407398\n",
      "Silhoutte score for k = 3 is 0.3790843214747073\n",
      "Silhoutte score for k = 4 is 0.30302771702964454\n",
      "Silhoutte score for k = 5 is 0.2822725289824419\n",
      "Silhoutte score for k = 6 is 0.29051182257834085\n",
      "Silhoutte score for k = 7 is 0.31735443577839195\n"
     ]
    },
    {
     "data": {
      "image/png": "[encoded data removed]",
      "text/plain": [
       "<Figure size 864x432 with 1 Axes>"
      ]
     },
     "metadata": {
      "needs_background": "light"
     },
     "output_type": "display_data"
    }
   ],
   "source": [
    "wcss = []\n",
    "for k in range(2,8):\n",
    "    kmeans = KMeans(n_clusters=k)\n",
    "    cluster_labels = kmeans.fit_predict(values)\n",
    "    silhouette_avg = silhouette_score(values, cluster_labels)\n",
    "    print(f'Silhoutte score for k = {k} is {silhouette_avg}')\n",
    "    \n",
    "    wcss.append(kmeans.inertia_)\n",
    "    \n",
    "plt.figure(figsize=(12,6))    \n",
    "plt.grid()\n",
    "plt.plot(range(2,8),wcss, linewidth=2, color=\"red\", marker=\"8\")\n",
    "plt.xlabel(\"K Value\")\n",
    "plt.xticks(np.arange(2,8,1))\n",
    "plt.title('Within Cluster Sum Of Squares (WCSS) vs the the number of clusters (K Value)')\n",
    "plt.ylabel(\"WCSS\")\n",
    "plt.show()"
   ]
  },
  {
   "cell_type": "markdown",
   "id": "2ca3dbe8-e271-4180-8569-c9a0a2461320",
   "metadata": {},
   "source": [
    "`We clealry observe an elbow at k=2`"
   ]
  },
  {
   "cell_type": "code",
   "execution_count": null,
   "id": "3c7676d2-5d2c-4ebf-8cb3-3e1651508741",
   "metadata": {},
   "outputs": [],
   "source": []
  },
  {
   "cell_type": "code",
   "execution_count": 30,
   "id": "cccac522-f9bb-4ece-9c22-9f4e331ac520",
   "metadata": {},
   "outputs": [
    {
     "data": {
      "text/plain": [
       "<function matplotlib.pyplot.show(close=None, block=None)>"
      ]
     },
     "execution_count": 30,
     "metadata": {},
     "output_type": "execute_result"
    },
    {
     "data": {
      "image/png": "[encoded data removed]",
      "text/plain": [
       "<Figure size 432x288 with 1 Axes>"
      ]
     },
     "metadata": {
      "needs_background": "light"
     },
     "output_type": "display_data"
    }
   ],
   "source": [
    "kmeans = KMeans(n_clusters=2)\n",
    "labels = kmeans.fit_predict(values)\n",
    "\n",
    "plt.scatter(values[:,0], values[:,1], c=kmeans.labels_, cmap='rainbow')\n",
    "plt.scatter(kmeans.cluster_centers_[:,0], kmeans.cluster_centers_[:,1], color='black')\n",
    "plt.ylabel('rating')\n",
    "plt.xlabel('Used It for')\n",
    "plt.show"
   ]
  },
  {
   "cell_type": "code",
   "execution_count": null,
   "id": "ae70279e-ff09-493d-b73c-d1ccd7ffe40d",
   "metadata": {},
   "outputs": [],
   "source": []
  },
  {
   "cell_type": "markdown",
   "id": "c0d14c80-2abe-4ab7-8096-7c54c67628b3",
   "metadata": {},
   "source": [
    "# Interpreting Segments"
   ]
  },
  {
   "cell_type": "code",
   "execution_count": 31,
   "id": "c4f4e3df-fbb6-42c4-ad10-3393bafdba91",
   "metadata": {},
   "outputs": [
    {
     "data": {
      "text/html": [
       "<div>\n",
       "<style scoped>\n",
       "    .dataframe tbody tr th:only-of-type {\n",
       "        vertical-align: middle;\n",
       "    }\n",
       "\n",
       "    .dataframe tbody tr th {\n",
       "        vertical-align: top;\n",
       "    }\n",
       "\n",
       "    .dataframe thead th {\n",
       "        text-align: right;\n",
       "    }\n",
       "</style>\n",
       "<table border=\"1\" class=\"dataframe\">\n",
       "  <thead>\n",
       "    <tr style=\"text-align: right;\">\n",
       "      <th></th>\n",
       "      <th>Condition</th>\n",
       "      <th>driven</th>\n",
       "      <th>Exterior</th>\n",
       "      <th>Comfort</th>\n",
       "      <th>Performance</th>\n",
       "      <th>Fuel Economy</th>\n",
       "      <th>Value for Money</th>\n",
       "      <th>rating</th>\n",
       "      <th>cluster</th>\n",
       "    </tr>\n",
       "  </thead>\n",
       "  <tbody>\n",
       "    <tr>\n",
       "      <th>0</th>\n",
       "      <td>0.0</td>\n",
       "      <td>2.0</td>\n",
       "      <td>5.0</td>\n",
       "      <td>5.0</td>\n",
       "      <td>5.0</td>\n",
       "      <td>5.0</td>\n",
       "      <td>5.0</td>\n",
       "      <td>5.0</td>\n",
       "      <td>1</td>\n",
       "    </tr>\n",
       "    <tr>\n",
       "      <th>1</th>\n",
       "      <td>0.0</td>\n",
       "      <td>2.0</td>\n",
       "      <td>3.0</td>\n",
       "      <td>2.0</td>\n",
       "      <td>1.0</td>\n",
       "      <td>2.0</td>\n",
       "      <td>1.0</td>\n",
       "      <td>0.0</td>\n",
       "      <td>0</td>\n",
       "    </tr>\n",
       "    <tr>\n",
       "      <th>2</th>\n",
       "      <td>0.0</td>\n",
       "      <td>2.0</td>\n",
       "      <td>5.0</td>\n",
       "      <td>5.0</td>\n",
       "      <td>5.0</td>\n",
       "      <td>5.0</td>\n",
       "      <td>5.0</td>\n",
       "      <td>5.0</td>\n",
       "      <td>1</td>\n",
       "    </tr>\n",
       "    <tr>\n",
       "      <th>3</th>\n",
       "      <td>0.0</td>\n",
       "      <td>3.0</td>\n",
       "      <td>2.0</td>\n",
       "      <td>2.0</td>\n",
       "      <td>1.0</td>\n",
       "      <td>1.0</td>\n",
       "      <td>1.0</td>\n",
       "      <td>0.0</td>\n",
       "      <td>0</td>\n",
       "    </tr>\n",
       "    <tr>\n",
       "      <th>4</th>\n",
       "      <td>1.0</td>\n",
       "      <td>1.0</td>\n",
       "      <td>5.0</td>\n",
       "      <td>5.0</td>\n",
       "      <td>5.0</td>\n",
       "      <td>5.0</td>\n",
       "      <td>5.0</td>\n",
       "      <td>5.0</td>\n",
       "      <td>1</td>\n",
       "    </tr>\n",
       "  </tbody>\n",
       "</table>\n",
       "</div>"
      ],
      "text/plain": [
       "   Condition  driven  Exterior  Comfort  Performance  Fuel Economy  \\\n",
       "0        0.0     2.0       5.0      5.0          5.0           5.0   \n",
       "1        0.0     2.0       3.0      2.0          1.0           2.0   \n",
       "2        0.0     2.0       5.0      5.0          5.0           5.0   \n",
       "3        0.0     3.0       2.0      2.0          1.0           1.0   \n",
       "4        1.0     1.0       5.0      5.0          5.0           5.0   \n",
       "\n",
       "   Value for Money  rating  cluster  \n",
       "0              5.0     5.0        1  \n",
       "1              1.0     0.0        0  \n",
       "2              5.0     5.0        1  \n",
       "3              1.0     0.0        0  \n",
       "4              5.0     5.0        1  "
      ]
     },
     "execution_count": 31,
     "metadata": {},
     "output_type": "execute_result"
    }
   ],
   "source": [
    "pred = kmeans.predict(values)\n",
    "frame = pd.DataFrame(df)\n",
    "frame['cluster'] = pred\n",
    "frame.head()"
   ]
  },
  {
   "cell_type": "code",
   "execution_count": 33,
   "id": "f2757002-319f-447a-ac5a-fcd827b66ca0",
   "metadata": {},
   "outputs": [],
   "source": [
    "df[['Condition', 'driven']] = pd.DataFrame(ordinalEncoder.inverse_transform(df.loc[:,['Condition', 'driven']].values), columns=['Condition', 'driven'])"
   ]
  },
  {
   "cell_type": "code",
   "execution_count": 35,
   "id": "840dedc8-61a7-4869-a060-454806d6408d",
   "metadata": {},
   "outputs": [
    {
     "data": {
      "text/html": [
       "<div>\n",
       "<style scoped>\n",
       "    .dataframe tbody tr th:only-of-type {\n",
       "        vertical-align: middle;\n",
       "    }\n",
       "\n",
       "    .dataframe tbody tr th {\n",
       "        vertical-align: top;\n",
       "    }\n",
       "\n",
       "    .dataframe thead th {\n",
       "        text-align: right;\n",
       "    }\n",
       "</style>\n",
       "<table border=\"1\" class=\"dataframe\">\n",
       "  <thead>\n",
       "    <tr style=\"text-align: right;\">\n",
       "      <th></th>\n",
       "      <th>Condition</th>\n",
       "      <th>driven</th>\n",
       "      <th>Exterior</th>\n",
       "      <th>Comfort</th>\n",
       "      <th>Performance</th>\n",
       "      <th>Fuel Economy</th>\n",
       "      <th>Value for Money</th>\n",
       "      <th>rating</th>\n",
       "      <th>cluster</th>\n",
       "    </tr>\n",
       "  </thead>\n",
       "  <tbody>\n",
       "    <tr>\n",
       "      <th>0</th>\n",
       "      <td>New</td>\n",
       "      <td>Few thousand kilometers</td>\n",
       "      <td>5.0</td>\n",
       "      <td>5.0</td>\n",
       "      <td>5.0</td>\n",
       "      <td>5.0</td>\n",
       "      <td>5.0</td>\n",
       "      <td>5.0</td>\n",
       "      <td>1</td>\n",
       "    </tr>\n",
       "    <tr>\n",
       "      <th>1</th>\n",
       "      <td>New</td>\n",
       "      <td>Few thousand kilometers</td>\n",
       "      <td>3.0</td>\n",
       "      <td>2.0</td>\n",
       "      <td>1.0</td>\n",
       "      <td>2.0</td>\n",
       "      <td>1.0</td>\n",
       "      <td>0.0</td>\n",
       "      <td>0</td>\n",
       "    </tr>\n",
       "    <tr>\n",
       "      <th>2</th>\n",
       "      <td>New</td>\n",
       "      <td>Few thousand kilometers</td>\n",
       "      <td>5.0</td>\n",
       "      <td>5.0</td>\n",
       "      <td>5.0</td>\n",
       "      <td>5.0</td>\n",
       "      <td>5.0</td>\n",
       "      <td>5.0</td>\n",
       "      <td>1</td>\n",
       "    </tr>\n",
       "    <tr>\n",
       "      <th>3</th>\n",
       "      <td>New</td>\n",
       "      <td>Haven't driven it</td>\n",
       "      <td>2.0</td>\n",
       "      <td>2.0</td>\n",
       "      <td>1.0</td>\n",
       "      <td>1.0</td>\n",
       "      <td>1.0</td>\n",
       "      <td>0.0</td>\n",
       "      <td>0</td>\n",
       "    </tr>\n",
       "    <tr>\n",
       "      <th>4</th>\n",
       "      <td>Not Purchased</td>\n",
       "      <td>Few hundred kilometers</td>\n",
       "      <td>5.0</td>\n",
       "      <td>5.0</td>\n",
       "      <td>5.0</td>\n",
       "      <td>5.0</td>\n",
       "      <td>5.0</td>\n",
       "      <td>5.0</td>\n",
       "      <td>1</td>\n",
       "    </tr>\n",
       "  </tbody>\n",
       "</table>\n",
       "</div>"
      ],
      "text/plain": [
       "       Condition                   driven  Exterior  Comfort  Performance  \\\n",
       "0            New  Few thousand kilometers       5.0      5.0          5.0   \n",
       "1            New  Few thousand kilometers       3.0      2.0          1.0   \n",
       "2            New  Few thousand kilometers       5.0      5.0          5.0   \n",
       "3            New        Haven't driven it       2.0      2.0          1.0   \n",
       "4  Not Purchased   Few hundred kilometers       5.0      5.0          5.0   \n",
       "\n",
       "   Fuel Economy  Value for Money  rating  cluster  \n",
       "0           5.0              5.0     5.0        1  \n",
       "1           2.0              1.0     0.0        0  \n",
       "2           5.0              5.0     5.0        1  \n",
       "3           1.0              1.0     0.0        0  \n",
       "4           5.0              5.0     5.0        1  "
      ]
     },
     "execution_count": 35,
     "metadata": {},
     "output_type": "execute_result"
    }
   ],
   "source": [
    "df.head()"
   ]
  },
  {
   "cell_type": "code",
   "execution_count": 36,
   "id": "f758343e-6040-4986-b5a5-a0044a3ee2a7",
   "metadata": {},
   "outputs": [
    {
     "data": {
      "text/html": [
       "<div>\n",
       "<style scoped>\n",
       "    .dataframe tbody tr th:only-of-type {\n",
       "        vertical-align: middle;\n",
       "    }\n",
       "\n",
       "    .dataframe tbody tr th {\n",
       "        vertical-align: top;\n",
       "    }\n",
       "\n",
       "    .dataframe thead th {\n",
       "        text-align: right;\n",
       "    }\n",
       "</style>\n",
       "<table border=\"1\" class=\"dataframe\">\n",
       "  <thead>\n",
       "    <tr style=\"text-align: right;\">\n",
       "      <th></th>\n",
       "      <th>cluster</th>\n",
       "      <th>Exterior</th>\n",
       "      <th>Comfort</th>\n",
       "      <th>Performance</th>\n",
       "      <th>Fuel Economy</th>\n",
       "      <th>Value for Money</th>\n",
       "      <th>rating</th>\n",
       "    </tr>\n",
       "  </thead>\n",
       "  <tbody>\n",
       "    <tr>\n",
       "      <th>0</th>\n",
       "      <td>0</td>\n",
       "      <td>2.705882</td>\n",
       "      <td>2.411765</td>\n",
       "      <td>1.941176</td>\n",
       "      <td>2.352941</td>\n",
       "      <td>1.470588</td>\n",
       "      <td>1.470588</td>\n",
       "    </tr>\n",
       "    <tr>\n",
       "      <th>1</th>\n",
       "      <td>1</td>\n",
       "      <td>4.741071</td>\n",
       "      <td>4.723214</td>\n",
       "      <td>4.794643</td>\n",
       "      <td>4.732143</td>\n",
       "      <td>4.571429</td>\n",
       "      <td>4.776786</td>\n",
       "    </tr>\n",
       "  </tbody>\n",
       "</table>\n",
       "</div>"
      ],
      "text/plain": [
       "   cluster  Exterior   Comfort  Performance  Fuel Economy  Value for Money  \\\n",
       "0        0  2.705882  2.411765     1.941176      2.352941         1.470588   \n",
       "1        1  4.741071  4.723214     4.794643      4.732143         4.571429   \n",
       "\n",
       "     rating  \n",
       "0  1.470588  \n",
       "1  4.776786  "
      ]
     },
     "execution_count": 36,
     "metadata": {},
     "output_type": "execute_result"
    }
   ],
   "source": [
    "avg_df = df.drop(['Condition', 'driven'], \n",
    "                    axis=1).groupby(['cluster'], as_index=False).mean()\n",
    "avg_df"
   ]
  },
  {
   "cell_type": "code",
   "execution_count": 38,
   "id": "381a1a78-2414-46e2-bc49-08f434cde953",
   "metadata": {},
   "outputs": [
    {
     "name": "stdout",
     "output_type": "stream",
     "text": [
      "                       Condition\n",
      "cluster Condition               \n",
      "0       New                    8\n",
      "        Not Purchased          5\n",
      "        Used                   4\n",
      "1       New                   55\n",
      "        Not Purchased         41\n",
      "        Used                  16 \n",
      "\n",
      "\n",
      "                                 driven\n",
      "cluster driven                         \n",
      "0       Did a short drive once        5\n",
      "        Few hundred kilometers        3\n",
      "        Few thousand kilometers       4\n",
      "        Haven't driven it             5\n",
      "1       Did a short drive once       32\n",
      "        Few hundred kilometers       28\n",
      "        Few thousand kilometers      30\n",
      "        Haven't driven it            20\n",
      "        Its my mate since ages        2 \n",
      "\n",
      "\n"
     ]
    }
   ],
   "source": [
    "for col in ['Condition', 'driven']:\n",
    "    df2 = pd.DataFrame(df.groupby(['cluster',col])[col].count())\n",
    "    print(df2, '\\n\\n')"
   ]
  },
  {
   "cell_type": "markdown",
   "id": "b1ed53fd-f818-46fa-bee5-870ba4be213f",
   "metadata": {},
   "source": [
    "## Main attributes of each segment:\n",
    "\n",
    "* ### Cluster 0:\n",
    "    * Average user rating is negative consisting of very few users\n",
    "    * Are mix of new and long term owners\n",
    "    * Have ridden the vehicle for shorter distances\n",
    "\n",
    "* ### Cluster 1:\n",
    "    * Average user rating is positive\n",
    "    * Are mostly new owners\n",
    "    * Have Ridden the vehicle for few thousand kms"
   ]
  },
  {
   "cell_type": "code",
   "execution_count": null,
   "id": "6b750556-f57b-420c-987f-2583566f50f4",
   "metadata": {},
   "outputs": [],
   "source": []
  },
  {
   "cell_type": "code",
   "execution_count": null,
   "id": "2eb426e7-83a8-41f8-9526-b2d6bc7a8fb8",
   "metadata": {},
   "outputs": [],
   "source": []
  }
 ],
 "metadata": {
  "kernelspec": {
   "display_name": "Python 3 (ipykernel)",
   "language": "python",
   "name": "python3"
  },
  "language_info": {
   "codemirror_mode": {
    "name": "ipython",
    "version": 3
   },
   "file_extension": ".py",
   "mimetype": "text/x-python",
   "name": "python",
   "nbconvert_exporter": "python",
   "pygments_lexer": "ipython3",
   "version": "3.9.12"
  },
  "vscode": {
   "interpreter": {
    "hash": "0fd26fd52af011849986db969b366497d606b7db1526b22542dcec63321a0828"
   }
  }
 },
 "nbformat": 4,
 "nbformat_minor": 5
}
